{
 "cells": [
  {
   "attachments": {},
   "cell_type": "markdown",
   "metadata": {},
   "source": [
    "### boto3 ec2 client"
   ]
  },
  {
   "cell_type": "code",
   "execution_count": 1,
   "metadata": {},
   "outputs": [],
   "source": [
    "import boto3"
   ]
  },
  {
   "cell_type": "code",
   "execution_count": 2,
   "metadata": {},
   "outputs": [],
   "source": [
    "boto3.setup_default_session(\n",
    "    region_name=\"us-east-1\", \n",
    "    profile_name=\"tezhire_sandbox\"\n",
    ")"
   ]
  },
  {
   "cell_type": "code",
   "execution_count": 3,
   "metadata": {},
   "outputs": [],
   "source": [
    "ec2 = boto3.client('ec2')"
   ]
  },
  {
   "attachments": {},
   "cell_type": "markdown",
   "metadata": {},
   "source": [
    "### get instance details"
   ]
  },
  {
   "cell_type": "code",
   "execution_count": 4,
   "metadata": {},
   "outputs": [],
   "source": [
    "response = ec2.describe_instances()"
   ]
  },
  {
   "cell_type": "code",
   "execution_count": 5,
   "metadata": {},
   "outputs": [],
   "source": [
    "instance_id = response['Reservations'][0]['Instances'][0]['InstanceId']"
   ]
  },
  {
   "cell_type": "code",
   "execution_count": 6,
   "metadata": {},
   "outputs": [
    {
     "data": {
      "text/plain": [
       "'i-07d311627f148bb11'"
      ]
     },
     "execution_count": 6,
     "metadata": {},
     "output_type": "execute_result"
    }
   ],
   "source": [
    "instance_id"
   ]
  },
  {
   "cell_type": "code",
   "execution_count": 8,
   "metadata": {},
   "outputs": [],
   "source": [
    "instance_status = response['Reservations'][0]['Instances'][0]['State']['Name']"
   ]
  },
  {
   "cell_type": "code",
   "execution_count": 9,
   "metadata": {},
   "outputs": [
    {
     "data": {
      "text/plain": [
       "'stopped'"
      ]
     },
     "execution_count": 9,
     "metadata": {},
     "output_type": "execute_result"
    }
   ],
   "source": [
    "instance_status"
   ]
  },
  {
   "attachments": {},
   "cell_type": "markdown",
   "metadata": {},
   "source": [
    "### start instance"
   ]
  },
  {
   "cell_type": "code",
   "execution_count": 10,
   "metadata": {},
   "outputs": [],
   "source": [
    "response = ec2.start_instances(\n",
    "    InstanceIds=[\n",
    "        instance_id\n",
    "    ]\n",
    ")"
   ]
  },
  {
   "cell_type": "code",
   "execution_count": 23,
   "metadata": {},
   "outputs": [
    {
     "data": {
      "text/plain": [
       "dict_keys(['StoppingInstances', 'ResponseMetadata'])"
      ]
     },
     "execution_count": 23,
     "metadata": {},
     "output_type": "execute_result"
    }
   ],
   "source": [
    "response.keys()"
   ]
  },
  {
   "cell_type": "code",
   "execution_count": 13,
   "metadata": {},
   "outputs": [
    {
     "data": {
      "text/plain": [
       "{'CurrentState': {'Code': 0, 'Name': 'pending'},\n",
       " 'InstanceId': 'i-07d311627f148bb11',\n",
       " 'PreviousState': {'Code': 80, 'Name': 'stopped'}}"
      ]
     },
     "execution_count": 13,
     "metadata": {},
     "output_type": "execute_result"
    }
   ],
   "source": [
    "response['StartingInstances'][0]"
   ]
  },
  {
   "cell_type": "code",
   "execution_count": 17,
   "metadata": {},
   "outputs": [],
   "source": [
    "response = ec2.describe_instances(\n",
    "    InstanceIds=[\n",
    "        instance_id\n",
    "    ]\n",
    ")"
   ]
  },
  {
   "cell_type": "code",
   "execution_count": 18,
   "metadata": {},
   "outputs": [
    {
     "data": {
      "text/plain": [
       "'running'"
      ]
     },
     "execution_count": 18,
     "metadata": {},
     "output_type": "execute_result"
    }
   ],
   "source": [
    "response['Reservations'][0]['Instances'][0]['State']['Name']"
   ]
  },
  {
   "attachments": {},
   "cell_type": "markdown",
   "metadata": {},
   "source": [
    "### stop instance"
   ]
  },
  {
   "cell_type": "code",
   "execution_count": 19,
   "metadata": {},
   "outputs": [],
   "source": [
    "response = ec2.stop_instances(\n",
    "    InstanceIds=[\n",
    "        instance_id\n",
    "    ]\n",
    ")"
   ]
  },
  {
   "cell_type": "code",
   "execution_count": 24,
   "metadata": {},
   "outputs": [
    {
     "data": {
      "text/plain": [
       "dict_keys(['StoppingInstances', 'ResponseMetadata'])"
      ]
     },
     "execution_count": 24,
     "metadata": {},
     "output_type": "execute_result"
    }
   ],
   "source": [
    "response.keys()"
   ]
  },
  {
   "cell_type": "code",
   "execution_count": 22,
   "metadata": {},
   "outputs": [
    {
     "data": {
      "text/plain": [
       "{'CurrentState': {'Code': 64, 'Name': 'stopping'},\n",
       " 'InstanceId': 'i-07d311627f148bb11',\n",
       " 'PreviousState': {'Code': 16, 'Name': 'running'}}"
      ]
     },
     "execution_count": 22,
     "metadata": {},
     "output_type": "execute_result"
    }
   ],
   "source": [
    "response['StoppingInstances'][0]"
   ]
  },
  {
   "cell_type": "code",
   "execution_count": 25,
   "metadata": {},
   "outputs": [],
   "source": [
    "response = ec2.describe_instances(\n",
    "    InstanceIds=[\n",
    "        instance_id\n",
    "    ]\n",
    ")"
   ]
  },
  {
   "cell_type": "code",
   "execution_count": 26,
   "metadata": {},
   "outputs": [
    {
     "data": {
      "text/plain": [
       "'stopped'"
      ]
     },
     "execution_count": 26,
     "metadata": {},
     "output_type": "execute_result"
    }
   ],
   "source": [
    "response['Reservations'][0]['Instances'][0]['State']['Name']"
   ]
  },
  {
   "attachments": {},
   "cell_type": "markdown",
   "metadata": {},
   "source": [
    "### get tags"
   ]
  },
  {
   "cell_type": "code",
   "execution_count": 27,
   "metadata": {},
   "outputs": [],
   "source": [
    "response = ec2.describe_instances(\n",
    "    InstanceIds=[\n",
    "        instance_id\n",
    "    ]\n",
    ")"
   ]
  },
  {
   "cell_type": "code",
   "execution_count": 28,
   "metadata": {},
   "outputs": [],
   "source": [
    "tags = response['Reservations'][0]['Instances'][0]['Tags']"
   ]
  },
  {
   "cell_type": "code",
   "execution_count": 29,
   "metadata": {},
   "outputs": [
    {
     "data": {
      "text/plain": [
       "[{'Key': 'aws:cloudformation:stack-name',\n",
       "  'Value': 'aws-cloud9-dev-30ebe2b1cb1a48efa776470e4e8230da'},\n",
       " {'Key': 'aws:cloud9:owner', 'Value': 'AROAXWPK74Y6LYL5MLJEB:lokesh_soni'},\n",
       " {'Key': 'aws:cloudformation:stack-id',\n",
       "  'Value': 'arn:aws:cloudformation:us-east-1:529310672444:stack/aws-cloud9-dev-30ebe2b1cb1a48efa776470e4e8230da/f7cf8310-8abc-11ed-acc6-0e7d1b01a48b'},\n",
       " {'Key': 'aws:cloudformation:logical-id', 'Value': 'Instance'},\n",
       " {'Key': 'aws:cloud9:environment',\n",
       "  'Value': '30ebe2b1cb1a48efa776470e4e8230da'},\n",
       " {'Key': 'Name', 'Value': 'Java Home'}]"
      ]
     },
     "execution_count": 29,
     "metadata": {},
     "output_type": "execute_result"
    }
   ],
   "source": [
    "tags"
   ]
  },
  {
   "cell_type": "code",
   "execution_count": 31,
   "metadata": {},
   "outputs": [
    {
     "name": "stdout",
     "output_type": "stream",
     "text": [
      "The tag key is Name and the value is Java Home\n"
     ]
    }
   ],
   "source": [
    "for tag in tags:\n",
    "    if tag['Key'] == \"Name\":\n",
    "        print(f\"The tag key is {tag['Key']} and the value is {tag['Value']}\")"
   ]
  },
  {
   "attachments": {},
   "cell_type": "markdown",
   "metadata": {},
   "source": [
    "### add tags"
   ]
  },
  {
   "cell_type": "code",
   "execution_count": 32,
   "metadata": {},
   "outputs": [],
   "source": [
    "response = ec2.create_tags(\n",
    "    Resources=[\n",
    "        instance_id\n",
    "    ],\n",
    "    Tags=[\n",
    "        {\n",
    "            'Key': 'Created By',\n",
    "            'Value': 'Lokesh Soni'\n",
    "        },\n",
    "    ]\n",
    ")"
   ]
  },
  {
   "cell_type": "code",
   "execution_count": 33,
   "metadata": {},
   "outputs": [
    {
     "data": {
      "text/plain": [
       "dict_keys(['ResponseMetadata'])"
      ]
     },
     "execution_count": 33,
     "metadata": {},
     "output_type": "execute_result"
    }
   ],
   "source": [
    "response.keys()"
   ]
  },
  {
   "cell_type": "code",
   "execution_count": 35,
   "metadata": {},
   "outputs": [
    {
     "data": {
      "text/plain": [
       "200"
      ]
     },
     "execution_count": 35,
     "metadata": {},
     "output_type": "execute_result"
    }
   ],
   "source": [
    "response['ResponseMetadata']['HTTPStatusCode']"
   ]
  },
  {
   "cell_type": "code",
   "execution_count": 36,
   "metadata": {},
   "outputs": [],
   "source": [
    "response = ec2.describe_instances(\n",
    "    InstanceIds=[\n",
    "        instance_id\n",
    "    ]\n",
    ")"
   ]
  },
  {
   "cell_type": "code",
   "execution_count": 37,
   "metadata": {},
   "outputs": [],
   "source": [
    "tags = response['Reservations'][0]['Instances'][0]['Tags']"
   ]
  },
  {
   "cell_type": "code",
   "execution_count": 38,
   "metadata": {},
   "outputs": [
    {
     "data": {
      "text/plain": [
       "[{'Key': 'aws:cloudformation:stack-name',\n",
       "  'Value': 'aws-cloud9-dev-30ebe2b1cb1a48efa776470e4e8230da'},\n",
       " {'Key': 'Created By', 'Value': 'Lokesh Soni'},\n",
       " {'Key': 'aws:cloud9:owner', 'Value': 'AROAXWPK74Y6LYL5MLJEB:lokesh_soni'},\n",
       " {'Key': 'aws:cloudformation:stack-id',\n",
       "  'Value': 'arn:aws:cloudformation:us-east-1:529310672444:stack/aws-cloud9-dev-30ebe2b1cb1a48efa776470e4e8230da/f7cf8310-8abc-11ed-acc6-0e7d1b01a48b'},\n",
       " {'Key': 'aws:cloudformation:logical-id', 'Value': 'Instance'},\n",
       " {'Key': 'aws:cloud9:environment',\n",
       "  'Value': '30ebe2b1cb1a48efa776470e4e8230da'},\n",
       " {'Key': 'Name', 'Value': 'Java Home'}]"
      ]
     },
     "execution_count": 38,
     "metadata": {},
     "output_type": "execute_result"
    }
   ],
   "source": [
    "tags"
   ]
  },
  {
   "cell_type": "code",
   "execution_count": 39,
   "metadata": {},
   "outputs": [
    {
     "name": "stdout",
     "output_type": "stream",
     "text": [
      "aws:cloudformation:stack-name => aws-cloud9-dev-30ebe2b1cb1a48efa776470e4e8230da\n",
      "Created By => Lokesh Soni\n",
      "aws:cloud9:owner => AROAXWPK74Y6LYL5MLJEB:lokesh_soni\n",
      "aws:cloudformation:stack-id => arn:aws:cloudformation:us-east-1:529310672444:stack/aws-cloud9-dev-30ebe2b1cb1a48efa776470e4e8230da/f7cf8310-8abc-11ed-acc6-0e7d1b01a48b\n",
      "aws:cloudformation:logical-id => Instance\n",
      "aws:cloud9:environment => 30ebe2b1cb1a48efa776470e4e8230da\n",
      "Name => Java Home\n"
     ]
    }
   ],
   "source": [
    "for tag in tags:\n",
    "    print(f\"{tag['Key']} => {tag['Value']}\")"
   ]
  },
  {
   "cell_type": "code",
   "execution_count": null,
   "metadata": {},
   "outputs": [],
   "source": []
  }
 ],
 "metadata": {
  "kernelspec": {
   "display_name": "dev",
   "language": "python",
   "name": "python3"
  },
  "language_info": {
   "codemirror_mode": {
    "name": "ipython",
    "version": 3
   },
   "file_extension": ".py",
   "mimetype": "text/x-python",
   "name": "python",
   "nbconvert_exporter": "python",
   "pygments_lexer": "ipython3",
   "version": "3.8.15"
  },
  "orig_nbformat": 4,
  "vscode": {
   "interpreter": {
    "hash": "f30ef97e7421fc85d2a2533651c84aacb1917f429877dd455ae6dde2e15eeba7"
   }
  }
 },
 "nbformat": 4,
 "nbformat_minor": 2
}
