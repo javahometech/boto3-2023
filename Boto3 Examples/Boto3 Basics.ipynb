{
 "cells": [
  {
   "attachments": {},
   "cell_type": "markdown",
   "metadata": {},
   "source": [
    "## links\n",
    "\n",
    "- [Boto3 Reference Link](https://boto3.amazonaws.com/v1/documentation/api/latest/reference/services/index.html)\n",
    "- [Markdown Syntax](https://www.markdownguide.org/basic-syntax)"
   ]
  },
  {
   "cell_type": "code",
   "execution_count": null,
   "metadata": {},
   "outputs": [],
   "source": [
    "# install boto3\n",
    "!pip install boto3"
   ]
  },
  {
   "cell_type": "code",
   "execution_count": 1,
   "metadata": {},
   "outputs": [],
   "source": [
    "import boto3"
   ]
  },
  {
   "cell_type": "code",
   "execution_count": 2,
   "metadata": {},
   "outputs": [],
   "source": [
    "# define this for local development\n",
    "\n",
    "boto3.setup_default_session(\n",
    "    region_name=\"replace with your region\", \n",
    "\n",
    "    # name of the local profile under ~/.aws/credentials\n",
    "    profile_name=\"replace with your profile name\"\n",
    ")"
   ]
  },
  {
   "cell_type": "code",
   "execution_count": 3,
   "metadata": {},
   "outputs": [
    {
     "name": "stdout",
     "output_type": "stream",
     "text": [
      "\"i-07d311627f148bb11\"\n"
     ]
    }
   ],
   "source": [
    "%%bash \n",
    "\n",
    "aws ec2 describe-instances \\\n",
    "    --profile replace_with_your_profile_name --region us-east-1 | \\\n",
    "    jq \".Reservations[0].Instances[0].InstanceId\""
   ]
  },
  {
   "cell_type": "code",
   "execution_count": 4,
   "metadata": {},
   "outputs": [],
   "source": [
    "ec2 = boto3.client('ec2')"
   ]
  },
  {
   "cell_type": "code",
   "execution_count": 5,
   "metadata": {},
   "outputs": [],
   "source": [
    "response = ec2.describe_instances()"
   ]
  },
  {
   "cell_type": "code",
   "execution_count": 10,
   "metadata": {},
   "outputs": [
    {
     "data": {
      "text/plain": [
       "dict"
      ]
     },
     "execution_count": 10,
     "metadata": {},
     "output_type": "execute_result"
    }
   ],
   "source": [
    "response.__class__"
   ]
  },
  {
   "cell_type": "code",
   "execution_count": 8,
   "metadata": {},
   "outputs": [
    {
     "data": {
      "text/plain": [
       "dict_keys(['Reservations', 'ResponseMetadata'])"
      ]
     },
     "execution_count": 8,
     "metadata": {},
     "output_type": "execute_result"
    }
   ],
   "source": [
    "response.keys()"
   ]
  },
  {
   "cell_type": "code",
   "execution_count": 9,
   "metadata": {},
   "outputs": [
    {
     "data": {
      "text/plain": [
       "{'RequestId': '77794b35-33d7-4a8d-9ca8-6448c3f84a7e',\n",
       " 'HTTPStatusCode': 200,\n",
       " 'HTTPHeaders': {'x-amzn-requestid': '77794b35-33d7-4a8d-9ca8-6448c3f84a7e',\n",
       "  'cache-control': 'no-cache, no-store',\n",
       "  'strict-transport-security': 'max-age=31536000; includeSubDomains',\n",
       "  'vary': 'accept-encoding',\n",
       "  'content-type': 'text/xml;charset=UTF-8',\n",
       "  'transfer-encoding': 'chunked',\n",
       "  'date': 'Wed, 25 Jan 2023 06:40:35 GMT',\n",
       "  'server': 'AmazonEC2'},\n",
       " 'RetryAttempts': 0}"
      ]
     },
     "execution_count": 9,
     "metadata": {},
     "output_type": "execute_result"
    }
   ],
   "source": [
    "response['ResponseMetadata']"
   ]
  },
  {
   "cell_type": "code",
   "execution_count": 11,
   "metadata": {},
   "outputs": [
    {
     "data": {
      "text/plain": [
       "200"
      ]
     },
     "execution_count": 11,
     "metadata": {},
     "output_type": "execute_result"
    }
   ],
   "source": [
    "response['ResponseMetadata']['HTTPStatusCode']"
   ]
  },
  {
   "cell_type": "code",
   "execution_count": 12,
   "metadata": {},
   "outputs": [
    {
     "data": {
      "text/plain": [
       "[{'Groups': [],\n",
       "  'Instances': [{'AmiLaunchIndex': 0,\n",
       "    'ImageId': 'ami-068933f8512412e6a',\n",
       "    'InstanceId': 'i-07d311627f148bb11',\n",
       "    'InstanceType': 't2.micro',\n",
       "    'LaunchTime': datetime.datetime(2023, 1, 21, 6, 11, 25, tzinfo=tzutc()),\n",
       "    'Monitoring': {'State': 'disabled'},\n",
       "    'Placement': {'AvailabilityZone': 'us-east-1d',\n",
       "     'GroupName': '',\n",
       "     'Tenancy': 'default'},\n",
       "    'PrivateDnsName': 'ip-172-31-15-214.ec2.internal',\n",
       "    'PrivateIpAddress': '172.31.15.214',\n",
       "    'ProductCodes': [],\n",
       "    'PublicDnsName': '',\n",
       "    'State': {'Code': 80, 'Name': 'stopped'},\n",
       "    'StateTransitionReason': 'User initiated (2023-01-21 06:26:09 GMT)',\n",
       "    'SubnetId': 'subnet-0f398bd9faa3b2db1',\n",
       "    'VpcId': 'vpc-0725fe92a0ad294ae',\n",
       "    'Architecture': 'x86_64',\n",
       "    'BlockDeviceMappings': [{'DeviceName': '/dev/xvda',\n",
       "      'Ebs': {'AttachTime': datetime.datetime(2023, 1, 2, 16, 46, 28, tzinfo=tzutc()),\n",
       "       'DeleteOnTermination': True,\n",
       "       'Status': 'attached',\n",
       "       'VolumeId': 'vol-08386b35132620825'}}],\n",
       "    'ClientToken': 'aws-c-Insta-1F2KXOFYZZTWP',\n",
       "    'EbsOptimized': False,\n",
       "    'EnaSupport': True,\n",
       "    'Hypervisor': 'xen',\n",
       "    'IamInstanceProfile': {'Arn': 'arn:aws:iam::529310672444:instance-profile/cloud9/AWSCloud9SSMInstanceProfile',\n",
       "     'Id': 'AIPAXWPK74Y6IFFT36BYA'},\n",
       "    'NetworkInterfaces': [{'Attachment': {'AttachTime': datetime.datetime(2023, 1, 2, 16, 46, 27, tzinfo=tzutc()),\n",
       "       'AttachmentId': 'eni-attach-06a60b383d220a45a',\n",
       "       'DeleteOnTermination': True,\n",
       "       'DeviceIndex': 0,\n",
       "       'Status': 'attached',\n",
       "       'NetworkCardIndex': 0},\n",
       "      'Description': 'ENI for AWS Cloud9 environment aws-cloud9-dev-30ebe2b1cb1a48efa776470e4e8230da',\n",
       "      'Groups': [{'GroupName': 'aws-cloud9-dev-30ebe2b1cb1a48efa776470e4e8230da-InstanceSecurityGroup-7XROFTVQ1XKG',\n",
       "        'GroupId': 'sg-0f337fda6f2e8711f'}],\n",
       "      'Ipv6Addresses': [],\n",
       "      'MacAddress': '02:82:25:93:d9:f9',\n",
       "      'NetworkInterfaceId': 'eni-0693dcdbb692a477e',\n",
       "      'OwnerId': '529310672444',\n",
       "      'PrivateDnsName': 'ip-172-31-15-214.ec2.internal',\n",
       "      'PrivateIpAddress': '172.31.15.214',\n",
       "      'PrivateIpAddresses': [{'Primary': True,\n",
       "        'PrivateDnsName': 'ip-172-31-15-214.ec2.internal',\n",
       "        'PrivateIpAddress': '172.31.15.214'}],\n",
       "      'SourceDestCheck': True,\n",
       "      'Status': 'in-use',\n",
       "      'SubnetId': 'subnet-0f398bd9faa3b2db1',\n",
       "      'VpcId': 'vpc-0725fe92a0ad294ae',\n",
       "      'InterfaceType': 'interface'}],\n",
       "    'RootDeviceName': '/dev/xvda',\n",
       "    'RootDeviceType': 'ebs',\n",
       "    'SecurityGroups': [{'GroupName': 'aws-cloud9-dev-30ebe2b1cb1a48efa776470e4e8230da-InstanceSecurityGroup-7XROFTVQ1XKG',\n",
       "      'GroupId': 'sg-0f337fda6f2e8711f'}],\n",
       "    'SourceDestCheck': True,\n",
       "    'StateReason': {'Code': 'Client.UserInitiatedShutdown',\n",
       "     'Message': 'Client.UserInitiatedShutdown: User initiated shutdown'},\n",
       "    'Tags': [{'Key': 'aws:cloudformation:stack-name',\n",
       "      'Value': 'aws-cloud9-dev-30ebe2b1cb1a48efa776470e4e8230da'},\n",
       "     {'Key': 'aws:cloud9:owner', 'Value': 'AROAXWPK74Y6LYL5MLJEB:lokesh_soni'},\n",
       "     {'Key': 'aws:cloudformation:stack-id',\n",
       "      'Value': 'arn:aws:cloudformation:us-east-1:529310672444:stack/aws-cloud9-dev-30ebe2b1cb1a48efa776470e4e8230da/f7cf8310-8abc-11ed-acc6-0e7d1b01a48b'},\n",
       "     {'Key': 'aws:cloudformation:logical-id', 'Value': 'Instance'},\n",
       "     {'Key': 'aws:cloud9:environment',\n",
       "      'Value': '30ebe2b1cb1a48efa776470e4e8230da'},\n",
       "     {'Key': 'Name', 'Value': 'Java Home'}],\n",
       "    'VirtualizationType': 'hvm',\n",
       "    'CpuOptions': {'CoreCount': 1, 'ThreadsPerCore': 1},\n",
       "    'CapacityReservationSpecification': {'CapacityReservationPreference': 'open'},\n",
       "    'HibernationOptions': {'Configured': False},\n",
       "    'MetadataOptions': {'State': 'applied',\n",
       "     'HttpTokens': 'optional',\n",
       "     'HttpPutResponseHopLimit': 1,\n",
       "     'HttpEndpoint': 'enabled',\n",
       "     'HttpProtocolIpv6': 'disabled',\n",
       "     'InstanceMetadataTags': 'disabled'},\n",
       "    'EnclaveOptions': {'Enabled': False},\n",
       "    'PlatformDetails': 'Linux/UNIX',\n",
       "    'UsageOperation': 'RunInstances',\n",
       "    'UsageOperationUpdateTime': datetime.datetime(2023, 1, 2, 16, 46, 27, tzinfo=tzutc()),\n",
       "    'PrivateDnsNameOptions': {'HostnameType': 'ip-name',\n",
       "     'EnableResourceNameDnsARecord': False,\n",
       "     'EnableResourceNameDnsAAAARecord': False},\n",
       "    'MaintenanceOptions': {'AutoRecovery': 'default'}}],\n",
       "  'OwnerId': '529310672444',\n",
       "  'RequesterId': '043234062703',\n",
       "  'ReservationId': 'r-0ffeba2ee06f8e739'}]"
      ]
     },
     "execution_count": 12,
     "metadata": {},
     "output_type": "execute_result"
    }
   ],
   "source": [
    "response['Reservations']"
   ]
  },
  {
   "cell_type": "code",
   "execution_count": 15,
   "metadata": {},
   "outputs": [
    {
     "data": {
      "text/plain": [
       "[{'AmiLaunchIndex': 0,\n",
       "  'ImageId': 'ami-068933f8512412e6a',\n",
       "  'InstanceId': 'i-07d311627f148bb11',\n",
       "  'InstanceType': 't2.micro',\n",
       "  'LaunchTime': datetime.datetime(2023, 1, 21, 6, 11, 25, tzinfo=tzutc()),\n",
       "  'Monitoring': {'State': 'disabled'},\n",
       "  'Placement': {'AvailabilityZone': 'us-east-1d',\n",
       "   'GroupName': '',\n",
       "   'Tenancy': 'default'},\n",
       "  'PrivateDnsName': 'ip-172-31-15-214.ec2.internal',\n",
       "  'PrivateIpAddress': '172.31.15.214',\n",
       "  'ProductCodes': [],\n",
       "  'PublicDnsName': '',\n",
       "  'State': {'Code': 80, 'Name': 'stopped'},\n",
       "  'StateTransitionReason': 'User initiated (2023-01-21 06:26:09 GMT)',\n",
       "  'SubnetId': 'subnet-0f398bd9faa3b2db1',\n",
       "  'VpcId': 'vpc-0725fe92a0ad294ae',\n",
       "  'Architecture': 'x86_64',\n",
       "  'BlockDeviceMappings': [{'DeviceName': '/dev/xvda',\n",
       "    'Ebs': {'AttachTime': datetime.datetime(2023, 1, 2, 16, 46, 28, tzinfo=tzutc()),\n",
       "     'DeleteOnTermination': True,\n",
       "     'Status': 'attached',\n",
       "     'VolumeId': 'vol-08386b35132620825'}}],\n",
       "  'ClientToken': 'aws-c-Insta-1F2KXOFYZZTWP',\n",
       "  'EbsOptimized': False,\n",
       "  'EnaSupport': True,\n",
       "  'Hypervisor': 'xen',\n",
       "  'IamInstanceProfile': {'Arn': 'arn:aws:iam::529310672444:instance-profile/cloud9/AWSCloud9SSMInstanceProfile',\n",
       "   'Id': 'AIPAXWPK74Y6IFFT36BYA'},\n",
       "  'NetworkInterfaces': [{'Attachment': {'AttachTime': datetime.datetime(2023, 1, 2, 16, 46, 27, tzinfo=tzutc()),\n",
       "     'AttachmentId': 'eni-attach-06a60b383d220a45a',\n",
       "     'DeleteOnTermination': True,\n",
       "     'DeviceIndex': 0,\n",
       "     'Status': 'attached',\n",
       "     'NetworkCardIndex': 0},\n",
       "    'Description': 'ENI for AWS Cloud9 environment aws-cloud9-dev-30ebe2b1cb1a48efa776470e4e8230da',\n",
       "    'Groups': [{'GroupName': 'aws-cloud9-dev-30ebe2b1cb1a48efa776470e4e8230da-InstanceSecurityGroup-7XROFTVQ1XKG',\n",
       "      'GroupId': 'sg-0f337fda6f2e8711f'}],\n",
       "    'Ipv6Addresses': [],\n",
       "    'MacAddress': '02:82:25:93:d9:f9',\n",
       "    'NetworkInterfaceId': 'eni-0693dcdbb692a477e',\n",
       "    'OwnerId': '529310672444',\n",
       "    'PrivateDnsName': 'ip-172-31-15-214.ec2.internal',\n",
       "    'PrivateIpAddress': '172.31.15.214',\n",
       "    'PrivateIpAddresses': [{'Primary': True,\n",
       "      'PrivateDnsName': 'ip-172-31-15-214.ec2.internal',\n",
       "      'PrivateIpAddress': '172.31.15.214'}],\n",
       "    'SourceDestCheck': True,\n",
       "    'Status': 'in-use',\n",
       "    'SubnetId': 'subnet-0f398bd9faa3b2db1',\n",
       "    'VpcId': 'vpc-0725fe92a0ad294ae',\n",
       "    'InterfaceType': 'interface'}],\n",
       "  'RootDeviceName': '/dev/xvda',\n",
       "  'RootDeviceType': 'ebs',\n",
       "  'SecurityGroups': [{'GroupName': 'aws-cloud9-dev-30ebe2b1cb1a48efa776470e4e8230da-InstanceSecurityGroup-7XROFTVQ1XKG',\n",
       "    'GroupId': 'sg-0f337fda6f2e8711f'}],\n",
       "  'SourceDestCheck': True,\n",
       "  'StateReason': {'Code': 'Client.UserInitiatedShutdown',\n",
       "   'Message': 'Client.UserInitiatedShutdown: User initiated shutdown'},\n",
       "  'Tags': [{'Key': 'aws:cloudformation:stack-name',\n",
       "    'Value': 'aws-cloud9-dev-30ebe2b1cb1a48efa776470e4e8230da'},\n",
       "   {'Key': 'aws:cloud9:owner', 'Value': 'AROAXWPK74Y6LYL5MLJEB:lokesh_soni'},\n",
       "   {'Key': 'aws:cloudformation:stack-id',\n",
       "    'Value': 'arn:aws:cloudformation:us-east-1:529310672444:stack/aws-cloud9-dev-30ebe2b1cb1a48efa776470e4e8230da/f7cf8310-8abc-11ed-acc6-0e7d1b01a48b'},\n",
       "   {'Key': 'aws:cloudformation:logical-id', 'Value': 'Instance'},\n",
       "   {'Key': 'aws:cloud9:environment',\n",
       "    'Value': '30ebe2b1cb1a48efa776470e4e8230da'},\n",
       "   {'Key': 'Name', 'Value': 'Java Home'}],\n",
       "  'VirtualizationType': 'hvm',\n",
       "  'CpuOptions': {'CoreCount': 1, 'ThreadsPerCore': 1},\n",
       "  'CapacityReservationSpecification': {'CapacityReservationPreference': 'open'},\n",
       "  'HibernationOptions': {'Configured': False},\n",
       "  'MetadataOptions': {'State': 'applied',\n",
       "   'HttpTokens': 'optional',\n",
       "   'HttpPutResponseHopLimit': 1,\n",
       "   'HttpEndpoint': 'enabled',\n",
       "   'HttpProtocolIpv6': 'disabled',\n",
       "   'InstanceMetadataTags': 'disabled'},\n",
       "  'EnclaveOptions': {'Enabled': False},\n",
       "  'PlatformDetails': 'Linux/UNIX',\n",
       "  'UsageOperation': 'RunInstances',\n",
       "  'UsageOperationUpdateTime': datetime.datetime(2023, 1, 2, 16, 46, 27, tzinfo=tzutc()),\n",
       "  'PrivateDnsNameOptions': {'HostnameType': 'ip-name',\n",
       "   'EnableResourceNameDnsARecord': False,\n",
       "   'EnableResourceNameDnsAAAARecord': False},\n",
       "  'MaintenanceOptions': {'AutoRecovery': 'default'}}]"
      ]
     },
     "execution_count": 15,
     "metadata": {},
     "output_type": "execute_result"
    }
   ],
   "source": [
    "response['Reservations'][0]['Instances']"
   ]
  },
  {
   "cell_type": "code",
   "execution_count": 19,
   "metadata": {},
   "outputs": [
    {
     "data": {
      "text/plain": [
       "'i-07d311627f148bb11'"
      ]
     },
     "execution_count": 19,
     "metadata": {},
     "output_type": "execute_result"
    }
   ],
   "source": [
    "response['Reservations'][0]['Instances'][0]['InstanceId']"
   ]
  },
  {
   "cell_type": "code",
   "execution_count": 18,
   "metadata": {},
   "outputs": [
    {
     "data": {
      "text/plain": [
       "'stopped'"
      ]
     },
     "execution_count": 18,
     "metadata": {},
     "output_type": "execute_result"
    }
   ],
   "source": [
    "response['Reservations'][0]['Instances'][0]['State']['Name']"
   ]
  },
  {
   "cell_type": "code",
   "execution_count": null,
   "metadata": {},
   "outputs": [],
   "source": []
  }
 ],
 "metadata": {
  "kernelspec": {
   "display_name": "dev",
   "language": "python",
   "name": "python3"
  },
  "language_info": {
   "codemirror_mode": {
    "name": "ipython",
    "version": 3
   },
   "file_extension": ".py",
   "mimetype": "text/x-python",
   "name": "python",
   "nbconvert_exporter": "python",
   "pygments_lexer": "ipython3",
   "version": "3.8.15"
  },
  "orig_nbformat": 4,
  "vscode": {
   "interpreter": {
    "hash": "f30ef97e7421fc85d2a2533651c84aacb1917f429877dd455ae6dde2e15eeba7"
   }
  }
 },
 "nbformat": 4,
 "nbformat_minor": 2
}
